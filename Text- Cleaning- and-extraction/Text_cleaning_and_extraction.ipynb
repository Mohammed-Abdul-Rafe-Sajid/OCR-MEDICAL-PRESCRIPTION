{
  "nbformat": 4,
  "nbformat_minor": 0,
  "metadata": {
    "colab": {
      "provenance": []
    },
    "kernelspec": {
      "name": "python3",
      "display_name": "Python 3"
    },
    "language_info": {
      "name": "python"
    }
  },
  "cells": [
    {
      "cell_type": "code",
      "execution_count": 4,
      "metadata": {
        "colab": {
          "base_uri": "https://localhost:8080/"
        },
        "id": "fdlThYcWwFcU",
        "outputId": "2064e14f-fcb0-4201-ee1a-9c1b08e9c630"
      },
      "outputs": [
        {
          "output_type": "stream",
          "name": "stdout",
          "text": [
            "Total blocks found: 129\n"
          ]
        }
      ],
      "source": [
        "\n",
        "path='/content/easyocr_output.txt'\n",
        "with open(path, \"r\", encoding=\"utf-8\") as f:\n",
        "    data = f.read()\n",
        "\n",
        "# Split by file blocks using \"---\"\n",
        "blocks = data.split('--- ')\n",
        "print(\"Total blocks found:\", len(blocks) - 1)\n",
        "\n"
      ]
    },
    {
      "cell_type": "code",
      "source": [
        "# Step 2: Extract filename and text from each block\n",
        "\n",
        "ocr_data = []\n",
        "\n",
        "# Skip the first empty split\n",
        "for block in blocks[1:]:\n",
        "    try:\n",
        "        # First line is the filename (e.g., \"1.jpg ---\\nText\")\n",
        "        lines = block.strip().split('\\n')\n",
        "        filename = lines[0].strip().replace('---', '').strip()\n",
        "        text = ' '.join(lines[1:]).strip()\n",
        "\n",
        "        ocr_data.append({\n",
        "            \"filename\": filename,\n",
        "            \"text\": text\n",
        "        })\n",
        "    except Exception as e:\n",
        "        print(\"Error parsing block:\", e)\n",
        "\n",
        "print(f\" Parsed {len(ocr_data)} entries.\")\n",
        "print(\"\\n Sample:\")\n",
        "print(ocr_data[0])\n"
      ],
      "metadata": {
        "colab": {
          "base_uri": "https://localhost:8080/"
        },
        "id": "zFzqfmxPw_VY",
        "outputId": "1f294c1f-82fc-440f-c363-4480008e126c"
      },
      "execution_count": 5,
      "outputs": [
        {
          "output_type": "stream",
          "name": "stdout",
          "text": [
            " Parsed 129 entries.\n",
            "\n",
            " Sample:\n",
            "{'filename': '1.jpg', 'text': 'Dr B;, Who Farmstrcct 12 Kirkvillc tel, 3876 uate Lav 1994 ttriw 0.12 m% theoh ~ M0,7 44 hlt Lm Ms/Mr Pehuiof 30 address; 7v Ye+ Agc:'}\n"
          ]
        }
      ]
    },
    {
      "cell_type": "code",
      "source": [
        "import re\n",
        "\n",
        "# Define regex patterns\n",
        "doctor_pattern = r'(Dr\\.?\\s+[A-Z][a-zA-Z]*)'\n",
        "medicine_pattern = r'\\b[A-Z][a-z]{3,}\\b'  # crude pattern for capitalized words (will refine)\n",
        "dosage_pattern = r'\\b\\d{1,4}\\s?(mg|ml|tab|tablet|caps|g|mcg)\\b'\n",
        "age_pattern = r'(Age[:\\s]*\\d{1,3})'\n",
        "date_pattern = r'(\\d{1,2}[/-]\\d{1,2}[/-]\\d{2,4})'\n",
        "\n",
        "# List to hold structured data\n",
        "structured_data = []\n",
        "\n",
        "for entry in ocr_data:\n",
        "    text = entry[\"text\"]\n",
        "\n",
        "    # Extract using regex\n",
        "    doctor_match = re.findall(doctor_pattern, text)\n",
        "    dosage_match = re.findall(dosage_pattern, text)\n",
        "    age_match = re.findall(age_pattern, text)\n",
        "    date_match = re.findall(date_pattern, text)\n",
        "\n",
        "    # Extract all words starting with capital letters (rough guess for medicine names)\n",
        "    meds = re.findall(medicine_pattern, text)\n",
        "\n",
        "    structured_data.append({\n",
        "        \"filename\": entry[\"filename\"],\n",
        "        \"doctor_name\": doctor_match[0] if doctor_match else \"\",\n",
        "        \"medicines\": meds[:3],  # take top 3 medicine-like words\n",
        "        \"dosage\": ', '.join(dosage_match),\n",
        "        \"age\": age_match[0] if age_match else \"\",\n",
        "        \"date\": date_match[0] if date_match else \"\"\n",
        "    })\n",
        "\n",
        "print(\"✅ Extracted structured fields for\", len(structured_data), \"prescriptions\")\n",
        "print(\"\\n🔍 Sample:\")\n",
        "print(structured_data[0])\n"
      ],
      "metadata": {
        "colab": {
          "base_uri": "https://localhost:8080/"
        },
        "id": "XR3kp1EAxRFE",
        "outputId": "37d3c850-eff4-4778-f9d5-5368b16e1ee0"
      },
      "execution_count": 6,
      "outputs": [
        {
          "output_type": "stream",
          "name": "stdout",
          "text": [
            "✅ Extracted structured fields for 129 prescriptions\n",
            "\n",
            "🔍 Sample:\n",
            "{'filename': '1.jpg', 'doctor_name': 'Dr B', 'medicines': ['Farmstrcct', 'Kirkvillc', 'Pehuiof'], 'dosage': '', 'age': '', 'date': ''}\n"
          ]
        }
      ]
    },
    {
      "cell_type": "code",
      "source": [
        "import csv\n",
        "import json\n",
        "from google.colab import files\n",
        "\n",
        "# Save as CSV\n",
        "csv_file = \"structured_prescription_data.csv\"\n",
        "csv_fields = [\"filename\", \"doctor_name\", \"medicines\", \"dosage\", \"age\", \"date\"]\n",
        "\n",
        "with open(csv_file, mode=\"w\", newline='', encoding=\"utf-8\") as f:\n",
        "    writer = csv.DictWriter(f, fieldnames=csv_fields)\n",
        "    writer.writeheader()\n",
        "    for row in structured_data:\n",
        "        # Convert list of medicines to a comma-separated string\n",
        "        row[\"medicines\"] = ', '.join(row[\"medicines\"])\n",
        "        writer.writerow(row)\n",
        "\n",
        "# Also save as JSON (optional)\n",
        "with open(\"structured_prescription_data.json\", \"w\") as jf:\n",
        "    json.dump(structured_data, jf, indent=2)\n",
        "\n",
        "# Download files\n",
        "files.download(csv_file)\n",
        "files.download(\"structured_prescription_data.json\")\n"
      ],
      "metadata": {
        "colab": {
          "base_uri": "https://localhost:8080/",
          "height": 17
        },
        "id": "NT4uzxpfyq11",
        "outputId": "90c9c7a8-a9ef-4aed-d307-d33d4209b854"
      },
      "execution_count": 7,
      "outputs": [
        {
          "output_type": "display_data",
          "data": {
            "text/plain": [
              "<IPython.core.display.Javascript object>"
            ],
            "application/javascript": [
              "\n",
              "    async function download(id, filename, size) {\n",
              "      if (!google.colab.kernel.accessAllowed) {\n",
              "        return;\n",
              "      }\n",
              "      const div = document.createElement('div');\n",
              "      const label = document.createElement('label');\n",
              "      label.textContent = `Downloading \"${filename}\": `;\n",
              "      div.appendChild(label);\n",
              "      const progress = document.createElement('progress');\n",
              "      progress.max = size;\n",
              "      div.appendChild(progress);\n",
              "      document.body.appendChild(div);\n",
              "\n",
              "      const buffers = [];\n",
              "      let downloaded = 0;\n",
              "\n",
              "      const channel = await google.colab.kernel.comms.open(id);\n",
              "      // Send a message to notify the kernel that we're ready.\n",
              "      channel.send({})\n",
              "\n",
              "      for await (const message of channel.messages) {\n",
              "        // Send a message to notify the kernel that we're ready.\n",
              "        channel.send({})\n",
              "        if (message.buffers) {\n",
              "          for (const buffer of message.buffers) {\n",
              "            buffers.push(buffer);\n",
              "            downloaded += buffer.byteLength;\n",
              "            progress.value = downloaded;\n",
              "          }\n",
              "        }\n",
              "      }\n",
              "      const blob = new Blob(buffers, {type: 'application/binary'});\n",
              "      const a = document.createElement('a');\n",
              "      a.href = window.URL.createObjectURL(blob);\n",
              "      a.download = filename;\n",
              "      div.appendChild(a);\n",
              "      a.click();\n",
              "      div.remove();\n",
              "    }\n",
              "  "
            ]
          },
          "metadata": {}
        },
        {
          "output_type": "display_data",
          "data": {
            "text/plain": [
              "<IPython.core.display.Javascript object>"
            ],
            "application/javascript": [
              "download(\"download_27b943e6-17b7-44a4-835b-f1c0c2de0539\", \"structured_prescription_data.csv\", 4845)"
            ]
          },
          "metadata": {}
        },
        {
          "output_type": "display_data",
          "data": {
            "text/plain": [
              "<IPython.core.display.Javascript object>"
            ],
            "application/javascript": [
              "\n",
              "    async function download(id, filename, size) {\n",
              "      if (!google.colab.kernel.accessAllowed) {\n",
              "        return;\n",
              "      }\n",
              "      const div = document.createElement('div');\n",
              "      const label = document.createElement('label');\n",
              "      label.textContent = `Downloading \"${filename}\": `;\n",
              "      div.appendChild(label);\n",
              "      const progress = document.createElement('progress');\n",
              "      progress.max = size;\n",
              "      div.appendChild(progress);\n",
              "      document.body.appendChild(div);\n",
              "\n",
              "      const buffers = [];\n",
              "      let downloaded = 0;\n",
              "\n",
              "      const channel = await google.colab.kernel.comms.open(id);\n",
              "      // Send a message to notify the kernel that we're ready.\n",
              "      channel.send({})\n",
              "\n",
              "      for await (const message of channel.messages) {\n",
              "        // Send a message to notify the kernel that we're ready.\n",
              "        channel.send({})\n",
              "        if (message.buffers) {\n",
              "          for (const buffer of message.buffers) {\n",
              "            buffers.push(buffer);\n",
              "            downloaded += buffer.byteLength;\n",
              "            progress.value = downloaded;\n",
              "          }\n",
              "        }\n",
              "      }\n",
              "      const blob = new Blob(buffers, {type: 'application/binary'});\n",
              "      const a = document.createElement('a');\n",
              "      a.href = window.URL.createObjectURL(blob);\n",
              "      a.download = filename;\n",
              "      div.appendChild(a);\n",
              "      a.click();\n",
              "      div.remove();\n",
              "    }\n",
              "  "
            ]
          },
          "metadata": {}
        },
        {
          "output_type": "display_data",
          "data": {
            "text/plain": [
              "<IPython.core.display.Javascript object>"
            ],
            "application/javascript": [
              "download(\"download_7794f3df-def7-4d0a-a0d8-567ec9201d3c\", \"structured_prescription_data.json\", 19277)"
            ]
          },
          "metadata": {}
        }
      ]
    },
    {
      "cell_type": "code",
      "source": [],
      "metadata": {
        "id": "kQcKxuQ1y9MV"
      },
      "execution_count": null,
      "outputs": []
    }
  ]
}